{
 "cells": [
  {
   "cell_type": "markdown",
   "metadata": {},
   "source": [
    "1. What is the purpose of the len() function in Python, and how can it be used with strings?\n",
    "\n",
    "Ans.- The len() function in Python is a built-in function that serves a simple yet important purpose: it returns the length (number of characters) of an object. When used with strings, it counts the number of characters in the string.\n",
    "\n",
    "Ex.-\n",
    "str = \"Hello\"\n",
    "\n",
    "print(len(str))"
   ]
  },
  {
   "cell_type": "markdown",
   "metadata": {},
   "source": [
    "2. How can you concatenate two or more strings in Python, and can you provide an example of string concatenation?\n",
    "\n",
    "Ans.- Concatenating strings in Python simply means joining them together. Here are two popular ways to do it:\n",
    "\n",
    "1. Using the plus operator (`+`)** is the most common way. Just put the strings you want to join together separated by plus signs (`+`).\n",
    "\n",
    "Example:-\n",
    "   first_name = \"Alice\"\n",
    "\n",
    "   last_name = \"Smith\"\n",
    "\n",
    "   full_name = first_name + \" \" + last_name\n",
    "\n",
    "   print(full_name)\n",
    "  \n",
    "\n",
    "2. Using the `join()` method is useful when you want to join a list of strings with a separator in between.\n",
    "\n",
    " Example:-\n",
    "\n",
    "   colors = [\"red\", \"green\", \"blue\"]\n",
    "\n",
    "   color_sentence = \"I like the colors \".join(colors)\n",
    "   \n",
    "   print(color_sentence)\n",
    "\n",
    " "
   ]
  },
  {
   "cell_type": "markdown",
   "metadata": {},
   "source": [
    "3. What is string slicing in Python, and how can you extract a portion of a string using this method?\n",
    "\n",
    "Ans.- String slicing in Python lets grab a subsection of characters from a string. Imagine the string as a loaf of bread. Slicing lets you take out a specific portion without affecting the rest.\n",
    "\n",
    "You use square brackets `[]` and indexes to specify the starting and ending points of the slice. It's a powerful tool for manipulating text!"
   ]
  },
  {
   "cell_type": "markdown",
   "metadata": {},
   "source": [
    "4. How can you change the case of a string in Python, and can you provide examples of both making a string all uppercase and all lowercase?\n",
    "\n",
    "Ans.- In Python, you can easily change the case of strings using built-in methods:\n",
    "\n",
    "* Make all uppercase: Use the `upper()` method.\n",
    "\n",
    "```python\n",
    "my_string = \"Hello, World!\"\n",
    "uppercase_string = my_string.upper()\n",
    "print(uppercase_string)  # Output: HELLO, WORLD!\n",
    "```\n",
    "\n",
    "* Make all lowercase: Use the `lower()` method.\n",
    "\n",
    "```python\n",
    "my_string = \"Hello, World!\"\n",
    "lowercase_string = my_string.lower()\n",
    "print(lowercase_string)  # Output: hello, world!\n",
    "```\n",
    "\n",
    "These methods create a new string with the changed case, leaving the original string unmodified."
   ]
  },
  {
   "cell_type": "markdown",
   "metadata": {},
   "source": [
    "5. What does the split() method do in Python, and how can you split a string using a specific delimiter?\n",
    "\n",
    "Ans.-  The `split()` method in Python is a handy tool for breaking up a string into a list of smaller strings, using a specified delimiter as the cutting point. It's like a sharp knife that slices a string into pieces based on a certain pattern.\n",
    "\n",
    "\n",
    "```python\n",
    "my_string = \"apple,banana,cherry\"\n",
    "fruits_list = my_string.split(\",\")\n",
    "print(fruits_list)\n",
    "```\n"
   ]
  }
 ],
 "metadata": {
  "language_info": {
   "name": "python"
  }
 },
 "nbformat": 4,
 "nbformat_minor": 2
}
